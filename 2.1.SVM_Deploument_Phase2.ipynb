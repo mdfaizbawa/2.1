{
 "cells": [
  {
   "cell_type": "code",
   "execution_count": 2,
   "id": "86dad5d1-da16-48c0-9f5d-19aab8a2dc51",
   "metadata": {},
   "outputs": [],
   "source": [
    "import pickle\n",
    "loaded_model=pickle.load(open(\"finalized_model_insurance.sav\",'rb'))"
   ]
  },
  {
   "cell_type": "code",
   "execution_count": 4,
   "id": "6e020db2-358e-46c4-a51e-28e2f5e20d80",
   "metadata": {},
   "outputs": [
    {
     "data": {
      "text/plain": [
       "array([13830.0817094])"
      ]
     },
     "execution_count": 4,
     "metadata": {},
     "output_type": "execute_result"
    }
   ],
   "source": [
    "result=loaded_model.predict([[1.5580973 , -0.30754453, -0.92832872, -0.99676557, -0.45466988]])\n",
    "result"
   ]
  },
  {
   "cell_type": "code",
   "execution_count": null,
   "id": "2e9111de-6357-415a-a97f-21c196572f14",
   "metadata": {},
   "outputs": [],
   "source": []
  }
 ],
 "metadata": {
  "kernelspec": {
   "display_name": "Python 3 (ipykernel)",
   "language": "python",
   "name": "python3"
  },
  "language_info": {
   "codemirror_mode": {
    "name": "ipython",
    "version": 3
   },
   "file_extension": ".py",
   "mimetype": "text/x-python",
   "name": "python",
   "nbconvert_exporter": "python",
   "pygments_lexer": "ipython3",
   "version": "3.12.4"
  }
 },
 "nbformat": 4,
 "nbformat_minor": 5
}
